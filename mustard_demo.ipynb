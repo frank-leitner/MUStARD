{
  "nbformat": 4,
  "nbformat_minor": 0,
  "metadata": {
    "colab": {
      "provenance": [],
      "include_colab_link": true
    },
    "kernelspec": {
      "name": "python3",
      "display_name": "Python 3"
    },
    "language_info": {
      "name": "python"
    },
    "accelerator": "GPU",
    "gpuClass": "standard"
  },
  "cells": [
    {
      "cell_type": "markdown",
      "metadata": {
        "id": "view-in-github",
        "colab_type": "text"
      },
      "source": [
        "<a href=\"https://colab.research.google.com/github/frank-leitner/MUStARD/blob/newConda/mustard_demo.ipynb\" target=\"_parent\"><img src=\"https://colab.research.google.com/assets/colab-badge.svg\" alt=\"Open In Colab\"/></a>"
      ]
    },
    {
      "cell_type": "markdown",
      "source": [
        "# Setup the environment"
      ],
      "metadata": {
        "id": "8nfPsqS4SaCp"
      }
    },
    {
      "cell_type": "code",
      "source": [
        "!wget --no-clobber https://repo.anaconda.com/miniconda/Miniconda3-latest-Linux-x86_64.sh\n",
        "!bash Miniconda3-latest-Linux-x86_64.sh -b"
      ],
      "metadata": {
        "id": "ex_YKWWgRFoQ",
        "outputId": "1944a03b-5439-42f0-c5c6-191327245321",
        "colab": {
          "base_uri": "https://localhost:8080/"
        }
      },
      "execution_count": 1,
      "outputs": [
        {
          "output_type": "stream",
          "name": "stdout",
          "text": [
            "--2023-04-01 12:28:14--  https://repo.anaconda.com/miniconda/Miniconda3-latest-Linux-x86_64.sh\n",
            "Resolving repo.anaconda.com (repo.anaconda.com)... 104.16.130.3, 104.16.131.3, 2606:4700::6810:8303, ...\n",
            "Connecting to repo.anaconda.com (repo.anaconda.com)|104.16.130.3|:443... connected.\n",
            "HTTP request sent, awaiting response... 200 OK\n",
            "Length: 74403966 (71M) [application/x-sh]\n",
            "Saving to: ‘Miniconda3-latest-Linux-x86_64.sh’\n",
            "\n",
            "Miniconda3-latest-L 100%[===================>]  70.96M   179MB/s    in 0.4s    \n",
            "\n",
            "2023-04-01 12:28:15 (179 MB/s) - ‘Miniconda3-latest-Linux-x86_64.sh’ saved [74403966/74403966]\n",
            "\n",
            "PREFIX=/root/miniconda3\n",
            "Unpacking payload ...\n",
            "                                                                                \n",
            "Installing base environment...\n",
            "\n",
            "\n",
            "Downloading and Extracting Packages\n",
            "\n",
            "\n",
            "Downloading and Extracting Packages\n",
            "\n",
            "Preparing transaction: - \b\b\\ \b\b| \b\b/ \b\b- \b\b\\ \b\b| \b\b/ \b\b- \b\b\\ \b\b| \b\b/ \b\b- \b\b\\ \b\bdone\n",
            "Executing transaction: / \b\b- \b\b\\ \b\b| \b\b/ \b\b- \b\b\\ \b\b| \b\b/ \b\b- \b\b\\ \b\b| \b\b/ \b\b- \b\b\\ \b\b| \b\b/ \b\b- \b\b\\ \b\b| \b\b/ \b\b- \b\b\\ \b\b| \b\b/ \b\b- \b\b\\ \b\b| \b\b/ \b\b- \b\b\\ \b\b| \b\b/ \b\b- \b\b\\ \b\b| \b\b/ \b\b- \b\b\\ \b\b| \b\b/ \b\b- \b\b\\ \b\bdone\n",
            "installation finished.\n",
            "WARNING:\n",
            "    You currently have a PYTHONPATH environment variable set. This may cause\n",
            "    unexpected behavior when running the Python interpreter in Miniconda3.\n",
            "    For best results, please verify that your PYTHONPATH only points to\n",
            "    directories of packages that are compatible with the Python interpreter\n",
            "    in Miniconda3: /root/miniconda3\n"
          ]
        }
      ]
    },
    {
      "cell_type": "code",
      "execution_count": 2,
      "metadata": {
        "id": "HjAB0j9qQ4TS",
        "outputId": "730d9a9b-49d8-4971-bead-7a3f62c2fdf7",
        "colab": {
          "base_uri": "https://localhost:8080/"
        }
      },
      "outputs": [
        {
          "output_type": "stream",
          "name": "stdout",
          "text": [
            "Cloning into 'MUStARD'...\n",
            "remote: Enumerating objects: 351, done.\u001b[K\n",
            "remote: Counting objects: 100% (74/74), done.\u001b[K\n",
            "remote: Compressing objects: 100% (68/68), done.\u001b[K\n",
            "remote: Total 351 (delta 36), reused 17 (delta 6), pack-reused 277\u001b[K\n",
            "Receiving objects: 100% (351/351), 77.23 MiB | 16.87 MiB/s, done.\n",
            "Resolving deltas: 100% (196/196), done.\n",
            "/content/MUStARD\n"
          ]
        }
      ],
      "source": [
        "!git clone -b newConda https://github.com/frank-leitner/MUStARD\n",
        "%cd MUStARD/"
      ]
    },
    {
      "cell_type": "code",
      "source": [
        "import sys"
      ],
      "metadata": {
        "id": "fSGKY-X5TFB7"
      },
      "execution_count": 3,
      "outputs": []
    },
    {
      "cell_type": "code",
      "source": [
        "import nltk\n",
        "\n",
        "nltk.download(\"punkt\")"
      ],
      "metadata": {
        "id": "zIRnljzUR_sM",
        "outputId": "498a8f50-3113-4c69-a002-8767aa9d0bcd",
        "colab": {
          "base_uri": "https://localhost:8080/"
        }
      },
      "execution_count": 4,
      "outputs": [
        {
          "output_type": "stream",
          "name": "stderr",
          "text": [
            "[nltk_data] Downloading package punkt to /root/nltk_data...\n",
            "[nltk_data]   Unzipping tokenizers/punkt.zip.\n"
          ]
        },
        {
          "output_type": "execute_result",
          "data": {
            "text/plain": [
              "True"
            ]
          },
          "metadata": {},
          "execution_count": 4
        }
      ]
    },
    {
      "cell_type": "code",
      "source": [
        "!pip install --upgrade gdown jsonlines"
      ],
      "metadata": {
        "colab": {
          "base_uri": "https://localhost:8080/"
        },
        "id": "a88jMHZYWXDn",
        "outputId": "91e6626f-fc4c-4613-cde4-fa4952f6a32d"
      },
      "execution_count": 10,
      "outputs": [
        {
          "output_type": "stream",
          "name": "stdout",
          "text": [
            "Looking in indexes: https://pypi.org/simple, https://us-python.pkg.dev/colab-wheels/public/simple/\n",
            "Requirement already satisfied: gdown in /usr/local/lib/python3.9/dist-packages (4.7.1)\n",
            "Requirement already satisfied: jsonlines in /usr/local/lib/python3.9/dist-packages (3.1.0)\n",
            "Requirement already satisfied: requests[socks] in /usr/local/lib/python3.9/dist-packages (from gdown) (2.27.1)\n",
            "Requirement already satisfied: tqdm in /usr/local/lib/python3.9/dist-packages (from gdown) (4.65.0)\n",
            "Requirement already satisfied: six in /usr/local/lib/python3.9/dist-packages (from gdown) (1.16.0)\n",
            "Requirement already satisfied: filelock in /usr/local/lib/python3.9/dist-packages (from gdown) (3.10.7)\n",
            "Requirement already satisfied: beautifulsoup4 in /usr/local/lib/python3.9/dist-packages (from gdown) (4.11.2)\n",
            "Requirement already satisfied: attrs>=19.2.0 in /usr/local/lib/python3.9/dist-packages (from jsonlines) (22.2.0)\n",
            "Requirement already satisfied: soupsieve>1.2 in /usr/local/lib/python3.9/dist-packages (from beautifulsoup4->gdown) (2.4)\n",
            "Requirement already satisfied: certifi>=2017.4.17 in /usr/local/lib/python3.9/dist-packages (from requests[socks]->gdown) (2022.12.7)\n",
            "Requirement already satisfied: charset-normalizer~=2.0.0 in /usr/local/lib/python3.9/dist-packages (from requests[socks]->gdown) (2.0.12)\n",
            "Requirement already satisfied: urllib3<1.27,>=1.21.1 in /usr/local/lib/python3.9/dist-packages (from requests[socks]->gdown) (1.26.15)\n",
            "Requirement already satisfied: idna<4,>=2.5 in /usr/local/lib/python3.9/dist-packages (from requests[socks]->gdown) (3.4)\n",
            "Requirement already satisfied: PySocks!=1.5.7,>=1.5.6 in /usr/local/lib/python3.9/dist-packages (from requests[socks]->gdown) (1.7.1)\n"
          ]
        }
      ]
    },
    {
      "cell_type": "markdown",
      "source": [
        "# Download the features"
      ],
      "metadata": {
        "id": "exDYJXk9TwmD"
      }
    },
    {
      "cell_type": "code",
      "source": [
        "!mkdir -p data/features\n",
        "!gdown -O data/features --id --folder 1Ff1WDObGKqpfbvy7-H1mD8YWvBS-Kf26"
      ],
      "metadata": {
        "colab": {
          "base_uri": "https://localhost:8080/"
        },
        "id": "IQWGbntIUCZJ",
        "outputId": "c866aaf9-c2b4-4e72-d986-5f4381db343e"
      },
      "execution_count": 6,
      "outputs": [
        {
          "output_type": "stream",
          "name": "stdout",
          "text": [
            "/usr/local/lib/python3.9/dist-packages/gdown/cli.py:126: FutureWarning: Option `--id` was deprecated in version 4.3.1 and will be removed in 5.0. You don't need to pass it anymore to use a file ID.\n",
            "  warnings.warn(\n",
            "Retrieving folder list\n",
            "Retrieving folder 1nKpz_UCBT6rZxwxgBm4YQrx_foAy28Qm context_final\n",
            "Processing file 1DQVT8GoPk0GBQNr1ks20eqGNTuVP5Pk6 resnet_pool5.hdf5\n",
            "Retrieving folder 1vVWdVlEb70KFR5-9JOYibw5R-nXai6ar utterances_final\n",
            "Processing file 1gN0IgpfWFGlxDQDpU-PwBQwahSRzDoTs resnet_pool5.hdf5\n",
            "Retrieving folder list completed\n",
            "Building directory structure\n",
            "Building directory structure completed\n",
            "Downloading...\n",
            "From (uriginal): https://drive.google.com/uc?id=1DQVT8GoPk0GBQNr1ks20eqGNTuVP5Pk6\n",
            "From (redirected): https://drive.google.com/uc?id=1DQVT8GoPk0GBQNr1ks20eqGNTuVP5Pk6&confirm=t&uuid=5d1657f3-6616-40bb-99d9-5394691e4db6\n",
            "To: /content/MUStARD/data/features/context_final/resnet_pool5.hdf5\n",
            "100% 1.93G/1.93G [00:12<00:00, 154MB/s]\n",
            "Downloading...\n",
            "From (uriginal): https://drive.google.com/uc?id=1gN0IgpfWFGlxDQDpU-PwBQwahSRzDoTs\n",
            "From (redirected): https://drive.google.com/uc?id=1gN0IgpfWFGlxDQDpU-PwBQwahSRzDoTs&confirm=t&uuid=4efd383a-1229-4b2a-87ea-52719ee1c7ba\n",
            "To: /content/MUStARD/data/features/utterances_final/resnet_pool5.hdf5\n",
            "100% 730M/730M [00:04<00:00, 167MB/s]\n",
            "Download completed\n"
          ]
        }
      ]
    },
    {
      "cell_type": "code",
      "source": [
        "!gdown --id 1GYv74vN80iX_IkEmkJhkjDRGxLvraWuZ\n",
        "!unzip BERT_text_features.zip -d data/"
      ],
      "metadata": {
        "colab": {
          "base_uri": "https://localhost:8080/"
        },
        "id": "jzVkYRcKUji5",
        "outputId": "15d7195a-be19-44e7-9471-19e7fd7eaccd"
      },
      "execution_count": 7,
      "outputs": [
        {
          "output_type": "stream",
          "name": "stdout",
          "text": [
            "/usr/local/lib/python3.9/dist-packages/gdown/cli.py:126: FutureWarning: Option `--id` was deprecated in version 4.3.1 and will be removed in 5.0. You don't need to pass it anymore to use a file ID.\n",
            "  warnings.warn(\n",
            "Downloading...\n",
            "From (uriginal): https://drive.google.com/uc?id=1GYv74vN80iX_IkEmkJhkjDRGxLvraWuZ\n",
            "From (redirected): https://drive.google.com/uc?id=1GYv74vN80iX_IkEmkJhkjDRGxLvraWuZ&confirm=t&uuid=46e90f14-f97f-4a8e-afdc-073845a18dd3\n",
            "To: /content/MUStARD/BERT_text_features.zip\n",
            "100% 566M/566M [00:06<00:00, 87.4MB/s]\n",
            "Archive:  BERT_text_features.zip\n",
            "  inflating: data/bert-output-context.jsonl  \n",
            "  inflating: data/bert-output.jsonl  \n",
            "   creating: data/__MACOSX/\n",
            "  inflating: data/__MACOSX/._bert-output.jsonl  \n"
          ]
        }
      ]
    },
    {
      "cell_type": "markdown",
      "source": [
        "# Run"
      ],
      "metadata": {
        "id": "qZ7uPzBtXDMI"
      }
    },
    {
      "cell_type": "code",
      "source": [
        "!/bin/python3 train_svm.py --config-key \"tav\""
      ],
      "metadata": {
        "id": "YXywHSFiXD0q",
        "colab": {
          "base_uri": "https://localhost:8080/"
        },
        "outputId": "6fb10073-68e8-4fb3-fcd2-07e1c00dad18"
      },
      "execution_count": 8,
      "outputs": [
        {
          "output_type": "stream",
          "name": "stdout",
          "text": [
            "Args: Namespace(config_key='tav')\n",
            "Present Fold: 1\n",
            "Vocab size: 1702\n",
            "Loading the GloVe model…\n",
            "[[54 10]\n",
            " [23 51]]\n",
            "              precision    recall  f1-score   support\n",
            "\n",
            "           0      0.701     0.844     0.766        64\n",
            "           1      0.836     0.689     0.756        74\n",
            "\n",
            "    accuracy                          0.761       138\n",
            "   macro avg      0.769     0.766     0.761       138\n",
            "weighted avg      0.774     0.761     0.760       138\n",
            "\n",
            "Present Fold: 2\n",
            "Vocab size: 1684\n",
            "Loading the GloVe model…\n",
            "[[49 18]\n",
            " [24 47]]\n",
            "              precision    recall  f1-score   support\n",
            "\n",
            "           0      0.671     0.731     0.700        67\n",
            "           1      0.723     0.662     0.691        71\n",
            "\n",
            "    accuracy                          0.696       138\n",
            "   macro avg      0.697     0.697     0.696       138\n",
            "weighted avg      0.698     0.696     0.695       138\n",
            "\n",
            "Present Fold: 3\n",
            "Vocab size: 1713\n",
            "Loading the GloVe model…\n",
            "[[53 22]\n",
            " [19 44]]\n",
            "              precision    recall  f1-score   support\n",
            "\n",
            "           0      0.736     0.707     0.721        75\n",
            "           1      0.667     0.698     0.682        63\n",
            "\n",
            "    accuracy                          0.703       138\n",
            "   macro avg      0.701     0.703     0.702       138\n",
            "weighted avg      0.704     0.703     0.703       138\n",
            "\n",
            "Present Fold: 4\n",
            "Vocab size: 1727\n",
            "Loading the GloVe model…\n",
            "[[42 20]\n",
            " [25 51]]\n",
            "              precision    recall  f1-score   support\n",
            "\n",
            "           0      0.627     0.677     0.651        62\n",
            "           1      0.718     0.671     0.694        76\n",
            "\n",
            "    accuracy                          0.674       138\n",
            "   macro avg      0.673     0.674     0.673       138\n",
            "weighted avg      0.677     0.674     0.675       138\n",
            "\n",
            "Present Fold: 5\n",
            "Vocab size: 1758\n",
            "Loading the GloVe model…\n",
            "[[57 20]\n",
            " [16 45]]\n",
            "              precision    recall  f1-score   support\n",
            "\n",
            "           0      0.781     0.740     0.760        77\n",
            "           1      0.692     0.738     0.714        61\n",
            "\n",
            "    accuracy                          0.739       138\n",
            "   macro avg      0.737     0.739     0.737       138\n",
            "weighted avg      0.742     0.739     0.740       138\n",
            "\n",
            "####################\n",
            "Fold 1:\n",
            "Weighted Precision: 0.7735649952328498  Weighted Recall: 0.7608695652173914  Weighted F score: 0.7603796210641725\n",
            "Fold 2:\n",
            "Weighted Precision: 0.6979062628854171  Weighted Recall: 0.6956521739130435  Weighted F score: 0.6954603580562659\n",
            "Fold 3:\n",
            "Weighted Precision: 0.7044082125603865  Weighted Recall: 0.7028985507246377  Weighted F score: 0.7033215712978822\n",
            "Fold 4:\n",
            "Weighted Precision: 0.6772262386780122  Weighted Recall: 0.6739130434782609  Weighted F score: 0.6746868616000495\n",
            "Fold 5:\n",
            "Weighted Precision: 0.7416960645072616  Weighted Recall: 0.7391304347826086  Weighted F score: 0.739792960662526\n",
            "####################\n",
            "Avg :\n",
            "Weighted Precision: 0.719  Weighted Recall: 0.714  Weighted F score: 0.715\n"
          ]
        }
      ]
    }
  ]
}